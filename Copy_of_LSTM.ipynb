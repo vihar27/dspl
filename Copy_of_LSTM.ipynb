{
  "cells": [
    {
      "cell_type": "markdown",
      "metadata": {
        "id": "view-in-github",
        "colab_type": "text"
      },
      "source": [
        "<a href=\"https://colab.research.google.com/github/vihar27/dspl/blob/master/Copy_of_LSTM.ipynb\" target=\"_parent\"><img src=\"https://colab.research.google.com/assets/colab-badge.svg\" alt=\"Open In Colab\"/></a>"
      ]
    },
    {
      "cell_type": "markdown",
      "id": "8c7fd0d0-3bc5-4dac-b001-e66d5640ad8a",
      "metadata": {
        "id": "8c7fd0d0-3bc5-4dac-b001-e66d5640ad8a"
      },
      "source": [
        "# LSTM for the prediction of energy consumption data over 48 hours\n",
        "### 1 - LSTM with Energy consumption data and weather data\n",
        "### 2 - LSTM with Energy consumption data and 2 variables 'Lastgang_Moving_Average' and 'Lastgang_First_Difference'"
      ]
    },
    {
      "cell_type": "code",
      "execution_count": null,
      "id": "902e770c-0416-4dca-b678-29739f652ae0",
      "metadata": {
        "id": "902e770c-0416-4dca-b678-29739f652ae0"
      },
      "outputs": [],
      "source": [
        "#Install all required packages with 'conda install NAME' or with pip install NAME'\n",
        "# pandas\n",
        "# numpy\n",
        "# matplotlib\n",
        "# scikit-learn\n",
        "# torch\n",
        "# gputil\n",
        "# psutil\n",
        "# torchsummary"
      ]
    },
    {
      "cell_type": "code",
      "execution_count": null,
      "id": "abe044e7-e328-433e-8c33-adf3b8442863",
      "metadata": {
        "id": "abe044e7-e328-433e-8c33-adf3b8442863"
      },
      "outputs": [],
      "source": [
        "#Import all required libraries\n",
        "import sys  # Provides access to some variables used or maintained by the interpreter\n",
        "import pandas as pd # Library for data manipulation and analysis, ideal for working with structured data like tables\n",
        "import numpy as np # For scientific computing, supports large, multi-dimensional arrays and matrices\n",
        "import matplotlib.pyplot as plt # For creating static, interactive, and animated visualizations\n",
        "import matplotlib.dates as mdates # Provides classes for manipulating dates in plots\n",
        "from pathlib import Path  # Used for filesystem path manipulation in an object-oriented way\n",
        "import torch # Scientific computing library for ML and neural networks\n",
        "import torch.nn as nn # Module in PyTorch providing various layers and parameters for neural networks, facilitates building and training\n",
        "from sklearn.metrics import mean_squared_error, mean_absolute_error # For calculating key regression metrics\n",
        "from sklearn.preprocessing import MinMaxScaler # For scaling and normalizing features, often useful in data preprocessing\n",
        "import os # Provides a way of using operating system dependent functionality\n",
        "import GPUtil # For monitoring GPU utilization\n",
        "from datetime import datetime # For handling dates and times\n",
        "import psutil # For accessing system details and process utilities\n",
        "from torchsummary import summary  # Import summary from torchsummary to display a summary of model layers and parameters"
      ]
    },
    {
      "cell_type": "code",
      "execution_count": null,
      "id": "cabbab8f-0d40-44ab-975e-0f18ea6056db",
      "metadata": {
        "id": "cabbab8f-0d40-44ab-975e-0f18ea6056db",
        "outputId": "8feb52bd-3e80-4f11-808c-ae694eb6ac24"
      },
      "outputs": [
        {
          "name": "stdout",
          "output_type": "stream",
          "text": [
            "/home/sarah/anaconda3/envs/BT2024PyTorch/bin/python\n"
          ]
        }
      ],
      "source": [
        "#To display the current environment\n",
        "print(sys.executable)"
      ]
    },
    {
      "cell_type": "code",
      "execution_count": null,
      "id": "944e31d4-e885-4fa7-ab6c-e2a2a3bc14e7",
      "metadata": {
        "id": "944e31d4-e885-4fa7-ab6c-e2a2a3bc14e7",
        "outputId": "11b0141b-c4a8-4dfa-c882-b985826980b1"
      },
      "outputs": [
        {
          "name": "stdout",
          "output_type": "stream",
          "text": [
            "First and last rows from dfClimaAll:\n",
            "   dy  Globalstrahlung_15Min  Sonnenhöhe  ExtraterrestrischeStrahlung  \\\n",
            "0   1                      0       -65.0                            0   \n",
            "1   1                      0       -65.0                            0   \n",
            "2   1                      0       -65.4                            0   \n",
            "3   1                      0       -65.5                            0   \n",
            "4   1                      0       -65.2                            0   \n",
            "\n",
            "   StundenwertStrahlung  Diffusstrahlung  StrahlungGeneigteFläche  \\\n",
            "0                     0                0                        0   \n",
            "1                     0                0                        0   \n",
            "2                     0                0                        0   \n",
            "3                     0                0                        0   \n",
            "4                     0                0                        0   \n",
            "\n",
            "   DiffusstrahlungGeneigteFläche  Direktnormalstrahlung  Lufttemperatur  \\\n",
            "0                              0                      0             2.5   \n",
            "1                              0                      0             2.5   \n",
            "2                              0                      0             2.5   \n",
            "3                              0                      0             2.5   \n",
            "4                              0                      0             2.4   \n",
            "\n",
            "   Windgeschwindigkeit  Schönwetterstrahlung  Taupunkttemperatur  TheorPVProd  \\\n",
            "0                  1.2                     0                 0.8            0   \n",
            "1                  1.2                     0                 0.8            0   \n",
            "2                  1.2                     0                 0.8            0   \n",
            "3                  1.1                     0                 0.8            0   \n",
            "4                  1.1                     0                 0.8            0   \n",
            "\n",
            "     TimestampWeather  \n",
            "0 2021-01-01 00:00:00  \n",
            "1 2021-01-01 00:15:00  \n",
            "2 2021-01-01 00:30:00  \n",
            "3 2021-01-01 00:45:00  \n",
            "4 2021-01-01 01:00:00  \n",
            "        dy  Globalstrahlung_15Min  Sonnenhöhe  ExtraterrestrischeStrahlung  \\\n",
            "35035  365                      0       -56.5                            0   \n",
            "35036  365                      0       -58.5                            0   \n",
            "35037  365                      0       -60.3                            0   \n",
            "35038  365                      0       -61.9                            0   \n",
            "35039  365                      0       -63.3                            0   \n",
            "\n",
            "       StundenwertStrahlung  Diffusstrahlung  StrahlungGeneigteFläche  \\\n",
            "35035                     0                0                        0   \n",
            "35036                     0                0                        0   \n",
            "35037                     0                0                        0   \n",
            "35038                     0                0                        0   \n",
            "35039                     0                0                        0   \n",
            "\n",
            "       DiffusstrahlungGeneigteFläche  Direktnormalstrahlung  Lufttemperatur  \\\n",
            "35035                              0                      0             5.5   \n",
            "35036                              0                      0             5.5   \n",
            "35037                              0                      0             5.5   \n",
            "35038                              0                      0             5.5   \n",
            "35039                              0                      0             4.9   \n",
            "\n",
            "       Windgeschwindigkeit  Schönwetterstrahlung  Taupunkttemperatur  \\\n",
            "35035                  2.4                     0               -18.2   \n",
            "35036                  2.4                     0               -18.2   \n",
            "35037                  2.4                     0               -18.2   \n",
            "35038                  2.4                     0               -18.2   \n",
            "35039                  1.8                     0               -14.0   \n",
            "\n",
            "       TheorPVProd    TimestampWeather  \n",
            "35035            0 2023-12-31 22:45:00  \n",
            "35036            0 2023-12-31 23:00:00  \n",
            "35037            0 2023-12-31 23:15:00  \n",
            "35038            0 2023-12-31 23:30:00  \n",
            "35039            0 2023-12-31 23:45:00  \n",
            "Number of missing values per column:\n",
            "dy                               0\n",
            "Globalstrahlung_15Min            0\n",
            "Sonnenhöhe                       0\n",
            "ExtraterrestrischeStrahlung      0\n",
            "StundenwertStrahlung             0\n",
            "Diffusstrahlung                  0\n",
            "StrahlungGeneigteFläche          0\n",
            "DiffusstrahlungGeneigteFläche    0\n",
            "Direktnormalstrahlung            0\n",
            "Lufttemperatur                   0\n",
            "Windgeschwindigkeit              0\n",
            "Schönwetterstrahlung             0\n",
            "Taupunkttemperatur               0\n",
            "TheorPVProd                      0\n",
            "TimestampWeather                 0\n",
            "dtype: int64\n",
            "Number of rows in dfClimaAll: 105120\n"
          ]
        }
      ],
      "source": [
        "# Step 1 - Reading Data\n",
        "\n",
        "## dfClimaAll: Data from 2021-2023\n",
        "## dfEnergyAll: All data from the transformer station from 2021-2023\n",
        "\n",
        "# Load data for 2021\n",
        "dfClima21 = pd.read_excel('/home/sarah/Documents/BT2024/Weather_Data/2021TimeWeather.xlsx')\n",
        "\n",
        "# Load data for 2022\n",
        "dfClima22 = pd.read_excel('/home/sarah/Documents/BT2024/Weather_Data/2022TimeWeather.xlsx')\n",
        "\n",
        "# Load data for 2023\n",
        "dfClima23 = pd.read_excel('/home/sarah/Documents/BT2024/Weather_Data/2023TimeWeather.xlsx')\n",
        "\n",
        "# Merge the DataFrames\n",
        "dfClimaAll = pd.concat([dfClima21, dfClima22, dfClima23])\n",
        "\n",
        "# Check the resulting DataFrame\n",
        "print(\"First and last rows from dfClimaAll:\")\n",
        "print(dfClimaAll.head())\n",
        "print(dfClimaAll.tail())\n",
        "\n",
        "# Check for missing values in each column\n",
        "## .isnull(): Returns DF where values with NaN are replaced by True & values without NaN are replaced by False\n",
        "## sum(): Sums up the number of True values\n",
        "print(\"Number of missing values per column:\")\n",
        "print(dfClimaAll.isnull().sum())\n",
        "\n",
        "# Convert 'Timestamp' into a Datetime object and set it as index, if not already set\n",
        "if 'TimestampWeather' in dfClimaAll.columns:\n",
        "    ## pd.to_datetime: Converts values into Datetime objects —> Pandas can then treat these as timestamps\n",
        "    dfClimaAll['TimestampWeather'] = pd.to_datetime(dfClimaAll['TimestampWeather'])\n",
        "    ## set_index: Sets index for the Timestamp column to facilitate access to data based on time points\n",
        "    dfClimaAll = dfClimaAll.set_index('TimestampWeather')\n",
        "\n",
        "# Number of rows in dfClimaAll\n",
        "print(\"Number of rows in dfClimaAll:\", dfClimaAll.shape[0])\n"
      ]
    },
    {
      "cell_type": "code",
      "execution_count": null,
      "id": "dd18e843-0297-4813-a58b-4a448f63c446",
      "metadata": {
        "id": "dd18e843-0297-4813-a58b-4a448f63c446",
        "outputId": "b2ad1129-1c30-459e-9738-f4f44bee6eff"
      },
      "outputs": [
        {
          "name": "stdout",
          "output_type": "stream",
          "text": [
            "First and last rows from dfEnergyAll:\n",
            "                     Lastgang\n",
            "Timestamp                    \n",
            "2021-01-01 00:00:00    472.88\n",
            "2021-01-01 00:15:00    498.83\n",
            "2021-01-01 00:30:00    480.48\n",
            "2021-01-01 00:45:00    446.74\n",
            "2021-01-01 01:00:00    459.55\n",
            "                     Lastgang\n",
            "Timestamp                    \n",
            "2023-12-31 22:45:00    833.17\n",
            "2023-12-31 23:00:00    767.89\n",
            "2023-12-31 23:15:00    770.04\n",
            "2023-12-31 23:30:00    730.45\n",
            "2023-12-31 23:45:00    744.21\n",
            "Number of rows in dfEnergyAll: 105108\n"
          ]
        }
      ],
      "source": [
        "# Step 1 - Reading Data\n",
        "\n",
        "## dfClimaAll: Data from 2021-2023\n",
        "## dfEnergyAll: All data from the transformer station from 2021-2023\n",
        "\n",
        "# Path to the directory containing the Excel files\n",
        "directory_path = Path('/home/sarah/Documents/BT2024/All')\n",
        "\n",
        "# Create a list of all Excel files in the directory\n",
        "file_paths = list(directory_path.glob('*.xlsx'))\n",
        "\n",
        "# List to store the individual DataFrames\n",
        "dfs = []\n",
        "\n",
        "# Loop over all file paths\n",
        "for file_path in file_paths:\n",
        "    # Read the Excel file\n",
        "    df = pd.read_excel(file_path)\n",
        "\n",
        "    # Convert the 'Timestamp' column to a datetime\n",
        "    df['Timestamp'] = pd.to_datetime(df['Timestamp'])\n",
        "\n",
        "    # Convert the 'Lastgang' column to a numeric type, treat errors as NaN\n",
        "    df['Lastgang'] = pd.to_numeric(df['Lastgang'], errors='coerce')\n",
        "\n",
        "    # Sort the DataFrame by 'Timestamp'\n",
        "    df = df.sort_values(by='Timestamp')\n",
        "\n",
        "    # Perform linear interpolation for 'Lastgang' on the individual DataFrame\n",
        "    df['Lastgang'] = df['Lastgang'].interpolate(method='linear')\n",
        "\n",
        "    # Add the DataFrame to the list\n",
        "    dfs.append(df)\n",
        "\n",
        "# Merge all DataFrames in the list\n",
        "dfEnergyAll = pd.concat(dfs).set_index('Timestamp')\n",
        "\n",
        "# Sum the 'Lastgang' values for identical timestamps\n",
        "dfEnergyAll = dfEnergyAll.groupby('Timestamp').sum()\n",
        "\n",
        "# Check the resulting DataFrame\n",
        "print(\"First and last rows from dfEnergyAll:\")\n",
        "print(dfEnergyAll.head())\n",
        "print(dfEnergyAll.tail())\n",
        "\n",
        "# Display the number of rows in dfEnergyAll\n",
        "print(\"Number of rows in dfEnergyAll:\", dfEnergyAll.shape[0])"
      ]
    },
    {
      "cell_type": "code",
      "execution_count": null,
      "id": "f57c59a7-8588-400b-a65e-7798892b3bff",
      "metadata": {
        "id": "f57c59a7-8588-400b-a65e-7798892b3bff",
        "outputId": "4c0df684-bfd2-40ed-812e-1f1ad3b39c9d"
      },
      "outputs": [
        {
          "name": "stdout",
          "output_type": "stream",
          "text": [
            "Missing timestamps in dfEnergyAll:\n",
            "DatetimeIndex(['2021-03-28 02:00:00', '2021-03-28 02:15:00',\n",
            "               '2021-03-28 02:30:00', '2021-03-28 02:45:00',\n",
            "               '2022-03-27 02:00:00', '2022-03-27 02:15:00',\n",
            "               '2022-03-27 02:30:00', '2022-03-27 02:45:00',\n",
            "               '2023-03-26 02:00:00', '2023-03-26 02:15:00',\n",
            "               '2023-03-26 02:30:00', '2023-03-26 02:45:00'],\n",
            "              dtype='datetime64[ns]', name='Timestamp', freq=None)\n",
            "Check after adding the missing timestamps:\n",
            "                     Lastgang\n",
            "2021-03-28 02:00:00    372.28\n",
            "2021-03-28 02:15:00    372.28\n",
            "2021-03-28 02:30:00    372.28\n",
            "2021-03-28 02:45:00    372.28\n",
            "2022-03-27 02:00:00    554.20\n",
            "2022-03-27 02:15:00    554.20\n",
            "2022-03-27 02:30:00    554.20\n",
            "2022-03-27 02:45:00    554.20\n",
            "2023-03-26 02:00:00    520.34\n",
            "2023-03-26 02:15:00    520.34\n",
            "2023-03-26 02:30:00    520.34\n",
            "2023-03-26 02:45:00    520.34\n",
            "Number of rows in dfClima21: 105120\n",
            "Number of rows in dfEnergyAll: 105120\n"
          ]
        },
        {
          "name": "stderr",
          "output_type": "stream",
          "text": [
            "/tmp/ipykernel_1514655/1871761932.py:32: FutureWarning: DataFrame.fillna with 'method' is deprecated and will raise in a future version. Use obj.ffill() or obj.bfill() instead.\n",
            "  dfEnergyAll = dfEnergyAll.sort_index().fillna(method='ffill')\n"
          ]
        }
      ],
      "source": [
        "# Step 2 - Preparing the Data\n",
        "\n",
        "# Create a complete timestamp index for the years 2021 - 2023 in 15-minute intervals\n",
        "all_timestamps = pd.date_range(start='2021-01-01 00:00:00', end='2023-12-31 23:45:00', freq='15T')\n",
        "\n",
        "# Convert this into a DataFrame\n",
        "df_all_timestamps = pd.DataFrame(all_timestamps, columns=['Timestamp'])\n",
        "df_all_timestamps = df_all_timestamps.set_index('Timestamp')\n",
        "\n",
        "# Compare the complete timestamp index with dfEnergyAll\n",
        "missing_timestamps = df_all_timestamps.index.difference(dfEnergyAll.index)\n",
        "\n",
        "print(\"Missing timestamps in dfEnergyAll:\")\n",
        "print(missing_timestamps)\n",
        "\n",
        "\n",
        "# Missing timestamps\n",
        "missing_timestamps = pd.DatetimeIndex(['2021-03-28 02:00:00', '2021-03-28 02:15:00',\n",
        "                                       '2021-03-28 02:30:00', '2021-03-28 02:45:00',\n",
        "                                       '2022-03-27 02:00:00', '2022-03-27 02:15:00',\n",
        "                                       '2022-03-27 02:30:00', '2022-03-27 02:45:00',\n",
        "                                       '2023-03-26 02:00:00', '2023-03-26 02:15:00',\n",
        "                                       '2023-03-26 02:30:00', '2023-03-26 02:45:00'])\n",
        "\n",
        "# Create a DataFrame with the missing timestamps\n",
        "df_missing = pd.DataFrame(index=missing_timestamps)\n",
        "\n",
        "# Merge this DataFrame with the original DataFrame\n",
        "dfEnergyAll = dfEnergyAll.combine_first(df_missing)\n",
        "\n",
        "# Fill the missing values. Use 'ffill' for forward fill.\n",
        "dfEnergyAll = dfEnergyAll.sort_index().fillna(method='ffill')\n",
        "\n",
        "print(\"Check after adding the missing timestamps:\")\n",
        "print(dfEnergyAll.loc[missing_timestamps])\n",
        "\n",
        "# Number of rows in dfClima21\n",
        "# Ensure dfClima21 is already defined before executing this line.\n",
        "print(\"Number of rows in dfClima21:\", dfClimaAll.shape[0])\n",
        "\n",
        "# Number of rows in dfEnergyAll\n",
        "print(\"Number of rows in dfEnergyAll:\", dfEnergyAll.shape[0])"
      ]
    },
    {
      "cell_type": "markdown",
      "id": "9e091294-f898-4ab8-8f36-16a937be15fb",
      "metadata": {
        "id": "9e091294-f898-4ab8-8f36-16a937be15fb"
      },
      "source": [
        "## 1 - LSTM with Energy consumption data and weather data"
      ]
    },
    {
      "cell_type": "code",
      "execution_count": null,
      "id": "5939df7d-254c-4aba-a087-fccc490a0ee5",
      "metadata": {
        "id": "5939df7d-254c-4aba-a087-fccc490a0ee5",
        "outputId": "9b61a7eb-b0c3-4b41-bccc-a4d7c19c25c1"
      },
      "outputs": [
        {
          "name": "stdout",
          "output_type": "stream",
          "text": [
            "Number of missing values per column:\n",
            "Lastgang                   0\n",
            "StundenwertStrahlung       0\n",
            "Globalstrahlung_15Min      0\n",
            "StrahlungGeneigteFläche    0\n",
            "TheorPVProd                0\n",
            "Direktnormalstrahlung      0\n",
            "Schönwetterstrahlung       0\n",
            "Lufttemperatur             0\n",
            "dtype: int64\n",
            "First and last rows from dfEnergyAll-Edited:\n",
            "                     Lastgang  StundenwertStrahlung  Globalstrahlung_15Min  \\\n",
            "2021-01-01 00:00:00    472.88                     0                      0   \n",
            "2021-01-01 00:15:00    498.83                     0                      0   \n",
            "2021-01-01 00:30:00    480.48                     0                      0   \n",
            "2021-01-01 00:45:00    446.74                     0                      0   \n",
            "2021-01-01 01:00:00    459.55                     0                      0   \n",
            "\n",
            "                     StrahlungGeneigteFläche  TheorPVProd  \\\n",
            "2021-01-01 00:00:00                        0            0   \n",
            "2021-01-01 00:15:00                        0            0   \n",
            "2021-01-01 00:30:00                        0            0   \n",
            "2021-01-01 00:45:00                        0            0   \n",
            "2021-01-01 01:00:00                        0            0   \n",
            "\n",
            "                     Direktnormalstrahlung  Schönwetterstrahlung  \\\n",
            "2021-01-01 00:00:00                      0                     0   \n",
            "2021-01-01 00:15:00                      0                     0   \n",
            "2021-01-01 00:30:00                      0                     0   \n",
            "2021-01-01 00:45:00                      0                     0   \n",
            "2021-01-01 01:00:00                      0                     0   \n",
            "\n",
            "                     Lufttemperatur  \n",
            "2021-01-01 00:00:00             2.5  \n",
            "2021-01-01 00:15:00             2.5  \n",
            "2021-01-01 00:30:00             2.5  \n",
            "2021-01-01 00:45:00             2.5  \n",
            "2021-01-01 01:00:00             2.4  \n",
            "                     Lastgang  StundenwertStrahlung  Globalstrahlung_15Min  \\\n",
            "2023-12-31 22:45:00    833.17                     0                      0   \n",
            "2023-12-31 23:00:00    767.89                     0                      0   \n",
            "2023-12-31 23:15:00    770.04                     0                      0   \n",
            "2023-12-31 23:30:00    730.45                     0                      0   \n",
            "2023-12-31 23:45:00    744.21                     0                      0   \n",
            "\n",
            "                     StrahlungGeneigteFläche  TheorPVProd  \\\n",
            "2023-12-31 22:45:00                        0            0   \n",
            "2023-12-31 23:00:00                        0            0   \n",
            "2023-12-31 23:15:00                        0            0   \n",
            "2023-12-31 23:30:00                        0            0   \n",
            "2023-12-31 23:45:00                        0            0   \n",
            "\n",
            "                     Direktnormalstrahlung  Schönwetterstrahlung  \\\n",
            "2023-12-31 22:45:00                      0                     0   \n",
            "2023-12-31 23:00:00                      0                     0   \n",
            "2023-12-31 23:15:00                      0                     0   \n",
            "2023-12-31 23:30:00                      0                     0   \n",
            "2023-12-31 23:45:00                      0                     0   \n",
            "\n",
            "                     Lufttemperatur  \n",
            "2023-12-31 22:45:00             5.5  \n",
            "2023-12-31 23:00:00             5.5  \n",
            "2023-12-31 23:15:00             5.5  \n",
            "2023-12-31 23:30:00             5.5  \n",
            "2023-12-31 23:45:00             4.9  \n"
          ]
        }
      ],
      "source": [
        "# Step 2 - Preparing the Data\n",
        "\n",
        "# To check if the indexes in both DataFrames are set equally\n",
        "dfClimaAll.index.equals(dfEnergyAll.index)\n",
        "\n",
        "# Adding the columns from dfClima21 to dfEnergyAll\n",
        "dfEnergyAll = dfEnergyAll.join(dfClimaAll[['StundenwertStrahlung', 'Globalstrahlung_15Min', 'StrahlungGeneigteFläche', 'TheorPVProd', 'Direktnormalstrahlung', 'Schönwetterstrahlung', 'Lufttemperatur']])\n",
        "\n",
        "# Checking for missing values in each column\n",
        "print(\"Number of missing values per column:\")\n",
        "print(dfEnergyAll.isnull().sum())\n",
        "\n",
        "# Printing the first and last rows from the dataframe\n",
        "print(\"First and last rows from dfEnergyAll-Edited:\")\n",
        "print(dfEnergyAll.head())\n",
        "print(dfEnergyAll.tail())"
      ]
    },
    {
      "cell_type": "code",
      "execution_count": null,
      "id": "3249555e-d606-4e67-88db-b1719c475f5d",
      "metadata": {
        "id": "3249555e-d606-4e67-88db-b1719c475f5d",
        "outputId": "c616f2ef-8000-4bfe-8f85-278fceed7f38"
      },
      "outputs": [
        {
          "name": "stdout",
          "output_type": "stream",
          "text": [
            "                     Lastgang  StundenwertStrahlung  Globalstrahlung_15Min  \\\n",
            "2021-01-01 00:00:00    472.88                     0                      0   \n",
            "2021-01-01 00:15:00    498.83                     0                      0   \n",
            "2021-01-01 00:30:00    480.48                     0                      0   \n",
            "2021-01-01 00:45:00    446.74                     0                      0   \n",
            "2021-01-01 01:00:00    459.55                     0                      0   \n",
            "\n",
            "                     StrahlungGeneigteFläche  TheorPVProd  \\\n",
            "2021-01-01 00:00:00                        0            0   \n",
            "2021-01-01 00:15:00                        0            0   \n",
            "2021-01-01 00:30:00                        0            0   \n",
            "2021-01-01 00:45:00                        0            0   \n",
            "2021-01-01 01:00:00                        0            0   \n",
            "\n",
            "                     Direktnormalstrahlung  Schönwetterstrahlung  \\\n",
            "2021-01-01 00:00:00                      0                     0   \n",
            "2021-01-01 00:15:00                      0                     0   \n",
            "2021-01-01 00:30:00                      0                     0   \n",
            "2021-01-01 00:45:00                      0                     0   \n",
            "2021-01-01 01:00:00                      0                     0   \n",
            "\n",
            "                     Lufttemperatur  Lastgang_Moving_Average  \\\n",
            "2021-01-01 00:00:00             2.5               549.123854   \n",
            "2021-01-01 00:15:00             2.5               549.123854   \n",
            "2021-01-01 00:30:00             2.5               549.123854   \n",
            "2021-01-01 00:45:00             2.5               549.123854   \n",
            "2021-01-01 01:00:00             2.4               549.123854   \n",
            "\n",
            "                     Lastgang_First_Difference  \n",
            "2021-01-01 00:00:00                      25.95  \n",
            "2021-01-01 00:15:00                      25.95  \n",
            "2021-01-01 00:30:00                     -18.35  \n",
            "2021-01-01 00:45:00                     -33.74  \n",
            "2021-01-01 01:00:00                      12.81  \n"
          ]
        },
        {
          "name": "stderr",
          "output_type": "stream",
          "text": [
            "/tmp/ipykernel_1514655/1800522370.py:11: FutureWarning: DataFrame.fillna with 'method' is deprecated and will raise in a future version. Use obj.ffill() or obj.bfill() instead.\n",
            "  dfEnergyAll = dfEnergyAll.fillna(method='bfill')\n"
          ]
        }
      ],
      "source": [
        "# Step 2 - Preparing the Data\n",
        "\n",
        "# Calculating the moving average for 'Lastgang'\n",
        "window_size = 96  # This corresponds to 24 hours at 15-minute intervals\n",
        "dfEnergyAll['Lastgang_Moving_Average'] = dfEnergyAll['Lastgang'].rolling(window=window_size).mean()\n",
        "\n",
        "# Calculating the first differences for 'Lastgang'\n",
        "dfEnergyAll['Lastgang_First_Difference'] = dfEnergyAll['Lastgang'].diff()\n",
        "\n",
        "# Since the first `window_size - 1` values of the moving average will be NaN and the first value of the first difference will be NaN, fill these values.\n",
        "dfEnergyAll = dfEnergyAll.fillna(method='bfill')\n",
        "\n",
        "# To check the first few rows to ensure the new features look as expected.\n",
        "print(dfEnergyAll.head())"
      ]
    },
    {
      "cell_type": "code",
      "execution_count": null,
      "id": "c513ae39-9901-490c-939b-c2061b85d5d9",
      "metadata": {
        "id": "c513ae39-9901-490c-939b-c2061b85d5d9"
      },
      "outputs": [],
      "source": [
        "# Step 3 - Data Scaling\n",
        "\n",
        "# Initialize the scalers\n",
        "lastgang_scaler = MinMaxScaler(feature_range=(0, 1))\n",
        "features_scaler = MinMaxScaler(feature_range=(0, 1))\n",
        "\n",
        "# Apply the scaler to the corresponding columns\n",
        "dfEnergyAll['Lastgang'] = lastgang_scaler.fit_transform(dfEnergyAll['Lastgang'].values.reshape(-1, 1))\n",
        "dfEnergyAll[['StundenwertStrahlung', 'Lufttemperatur', 'Globalstrahlung_15Min', 'StrahlungGeneigteFläche', 'Lastgang_Moving_Average', 'Lastgang_First_Difference']] = features_scaler.fit_transform(dfEnergyAll[['StundenwertStrahlung', 'Lufttemperatur', 'Globalstrahlung_15Min', 'StrahlungGeneigteFläche', 'Lastgang_Moving_Average', 'Lastgang_First_Difference']])\n"
      ]
    },
    {
      "cell_type": "code",
      "execution_count": null,
      "id": "c9b3b67e-2833-4759-9987-8dc3eed4fd52",
      "metadata": {
        "id": "c9b3b67e-2833-4759-9987-8dc3eed4fd52",
        "outputId": "27d8d08c-edd4-4061-b5b8-90927be0550d"
      },
      "outputs": [
        {
          "name": "stdout",
          "output_type": "stream",
          "text": [
            "            Lastgang  StundenwertStrahlung  Globalstrahlung_15Min  \\\n",
            "count  105120.000000         105120.000000          105120.000000   \n",
            "mean        0.425947              0.561652               0.125328   \n",
            "std         0.149590              0.111328               0.197261   \n",
            "min         0.000000              0.000000               0.000000   \n",
            "25%         0.312299              0.490186               0.000000   \n",
            "50%         0.397657              0.492149               0.000861   \n",
            "75%         0.527101              0.593719               0.182444   \n",
            "max         1.000000              1.000000               1.000000   \n",
            "\n",
            "       StrahlungGeneigteFläche    TheorPVProd  Direktnormalstrahlung  \\\n",
            "count            105120.000000  105120.000000          105120.000000   \n",
            "mean                  0.125328     116.568056             144.916924   \n",
            "std                   0.197261     177.407501             266.941484   \n",
            "min                   0.000000       0.000000               0.000000   \n",
            "25%                   0.000000       0.000000               0.000000   \n",
            "50%                   0.000861       1.000000               0.000000   \n",
            "75%                   0.182444     179.000000             132.000000   \n",
            "max                   1.000000     799.000000            1010.000000   \n",
            "\n",
            "       Schönwetterstrahlung  Lufttemperatur  Lastgang_Moving_Average  \\\n",
            "count         105120.000000   105120.000000            105120.000000   \n",
            "mean             220.075295        0.487743                 0.468536   \n",
            "std              296.754964        0.169107                 0.234477   \n",
            "min                0.000000        0.000000                 0.000000   \n",
            "25%                0.000000        0.359408                 0.282593   \n",
            "50%                6.000000        0.482030                 0.433883   \n",
            "75%              403.000000        0.606765                 0.641900   \n",
            "max             1020.000000        1.000000                 1.000000   \n",
            "\n",
            "       Lastgang_First_Difference  \n",
            "count              105120.000000  \n",
            "mean                    0.504792  \n",
            "std                     0.046065  \n",
            "min                     0.000000  \n",
            "25%                     0.476896  \n",
            "50%                     0.504275  \n",
            "75%                     0.532252  \n",
            "max                     1.000000  \n",
            "Skalierparameter für Lastgang: [0.00068067] [-0.03440131]\n"
          ]
        }
      ],
      "source": [
        "# Step 3 - Check the scaled values\n",
        "\n",
        "print(dfEnergyAll.describe())\n",
        "\n",
        "print(\"Skalierparameter für Lastgang:\", lastgang_scaler.scale_, lastgang_scaler.min_)"
      ]
    },
    {
      "cell_type": "code",
      "execution_count": null,
      "id": "90e7229f-5224-4bf1-8aa6-7883794b6f2e",
      "metadata": {
        "id": "90e7229f-5224-4bf1-8aa6-7883794b6f2e",
        "outputId": "cc3642b5-8cf1-45a1-a8e2-4fe314cec35d"
      },
      "outputs": [
        {
          "name": "stdout",
          "output_type": "stream",
          "text": [
            "GPU before model training: 2024-05-03 17:00:39\n",
            "GPU: NVIDIA A100 80GB PCIe, GPU RAM Free: 17694.0MB, Used: 63345.0MB, Utilization: 92.0%\n",
            "GPU: NVIDIA A100 80GB PCIe, GPU RAM Free: 236.0MB, Used: 80803.0MB, Utilization: 28.000000000000004%\n",
            "CPU before model training:\n",
            "CPU Utilization: 89.2%\n",
            "RAM before model training:\n",
            "Total memory: 146.88 GB\n",
            "Available memory: 115.63 GB\n",
            "Used memory: 29.34 GB\n",
            "Memory usage: 21.3%\n"
          ]
        }
      ],
      "source": [
        "# Step 3 - Show GPU Utilization and Memory Usage before Model Training\n",
        "\n",
        "def print_gpu_utilization():\n",
        "    # Retrieve and print GPU utilization and memory stats\n",
        "    GPUs = GPUtil.getGPUs()\n",
        "    for GPU in GPUs:\n",
        "        print(f\"GPU: {GPU.name}, GPU RAM Free: {GPU.memoryFree}MB, Used: {GPU.memoryUsed}MB, Utilization: {GPU.load*100}%\")\n",
        "\n",
        "print(\"GPU before model training:\", datetime.now().strftime(\"%Y-%m-%d %H:%M:%S\"))\n",
        "print_gpu_utilization()\n",
        "\n",
        "# Function to print CPU utilization\n",
        "def print_cpu_utilization():\n",
        "    # Retrieve and print the percentage of CPU utilization\n",
        "    print(f\"CPU Utilization: {psutil.cpu_percent(interval=1)}%\")\n",
        "\n",
        "print(\"CPU before model training:\")\n",
        "print_cpu_utilization()\n",
        "\n",
        "def print_memory_usage():\n",
        "    # Retrieve and print memory statistics\n",
        "    memory = psutil.virtual_memory()\n",
        "    print(f\"Total memory: {memory.total / (1024**3):.2f} GB\")\n",
        "    print(f\"Available memory: {memory.available / (1024**3):.2f} GB\")\n",
        "    print(f\"Used memory: {memory.used / (1024**3):.2f} GB\")\n",
        "    print(f\"Memory usage: {memory.percent}%\")\n",
        "\n",
        "print(\"RAM before model training:\")\n",
        "print_memory_usage()\n"
      ]
    },
    {
      "cell_type": "code",
      "execution_count": null,
      "id": "0d90e033-70b7-4d3d-b038-315db7f388a9",
      "metadata": {
        "id": "0d90e033-70b7-4d3d-b038-315db7f388a9"
      },
      "outputs": [],
      "source": [
        "# Step 4 - Creating the sequences and the LSTM model\n",
        "\n",
        "def create_sequences(data, seq_length):\n",
        "    # Create input/output sequences from the dataset for model training\n",
        "    xs = []\n",
        "    ys = []\n",
        "    for i in range(len(data) - seq_length):\n",
        "        x = data.iloc[i:(i + seq_length)].to_numpy() # Extract input sequence\n",
        "        y = data.iloc[i + seq_length, 0] # Extract the corresponding output\n",
        "        xs.append(x)\n",
        "        ys.append(y)\n",
        "    return np.array(xs), np.array(ys)\n",
        "\n",
        "seq_length = 192\n",
        "X, y = create_sequences(dfEnergyAll, seq_length)  # Generate sequences using the specified sequence length\n",
        "\n",
        "# Split the dataset into training and testing sets using the last 192 sequences for testing\n",
        "X_train, X_test = X[:-192], X[-192:]\n",
        "y_train, y_test = y[:-192], y[-192:]"
      ]
    },
    {
      "cell_type": "code",
      "execution_count": null,
      "id": "e0e131ce-7193-42fb-94dc-f2bd0876aa2b",
      "metadata": {
        "id": "e0e131ce-7193-42fb-94dc-f2bd0876aa2b",
        "outputId": "2157f3a6-b85a-40af-d747-271d16a27707"
      },
      "outputs": [
        {
          "name": "stdout",
          "output_type": "stream",
          "text": [
            "X_train Shape: (104736, 192, 10)\n",
            "X_test Shape: (192, 192, 10)\n"
          ]
        }
      ],
      "source": [
        "# Step 4 - Creating the sequences and the LSTM model\n",
        "\n",
        "# Print the shapes of the training and testing datasets\n",
        "print(f\"X_train Shape: {X_train.shape}\")\n",
        "print(f\"X_test Shape: {X_test.shape}\")"
      ]
    },
    {
      "cell_type": "code",
      "execution_count": null,
      "id": "69131796-20f7-4e93-a091-5fa9dfed0237",
      "metadata": {
        "id": "69131796-20f7-4e93-a091-5fa9dfed0237"
      },
      "outputs": [],
      "source": [
        "# Step 4 - Creating the sequences and the LSTM model\n",
        "\n",
        "# Check Hardware Availability for the PyTorch code\n",
        "device = torch.device('cuda' if torch.cuda.is_available() else 'cpu')\n"
      ]
    },
    {
      "cell_type": "code",
      "execution_count": null,
      "id": "e84d8190-9f4f-4e97-94e5-6587d3efa9a1",
      "metadata": {
        "id": "e84d8190-9f4f-4e97-94e5-6587d3efa9a1"
      },
      "outputs": [],
      "source": [
        "# Step 4 - Creating the sequences and the LSTM model\n",
        "\n",
        "class LSTMModel(nn.Module):\n",
        "    def __init__(self, input_size, hidden_layer_size, output_size):\n",
        "        super(LSTMModel, self).__init__()\n",
        "        # Initialize the LSTM layer with the specified input size and hidden layer size\n",
        "        self.hidden_layer_size = hidden_layer_size\n",
        "        self.lstm = nn.LSTM(input_size, hidden_layer_size, batch_first=True)\n",
        "        # Initialize a linear layer to map the output of the LSTM to the desired output size\n",
        "        self.linear = nn.Linear(hidden_layer_size, output_size)\n",
        "\n",
        "    def forward(self, input_seq, hidden_state):\n",
        "        # Define the forward pass through the LSTM layer followed by a linear layer\n",
        "        lstm_out, hidden_state = self.lstm(input_seq, hidden_state) # LSTM output and updated hidden state\n",
        "        predictions = self.linear(lstm_out[:, -1, :]) # Linear layer uses the last time step output\n",
        "        return predictions, hidden_state\n",
        "\n",
        "# Instantiate the LSTM model with specific dimensions for input size, hidden layer size, and output size\n",
        "model = LSTMModel(10, 100, 1).to(device) # Model is set to run on the specified device (here GPU)"
      ]
    },
    {
      "cell_type": "code",
      "execution_count": null,
      "id": "1dbd5f07-59df-4f57-a4e0-342da9da76d4",
      "metadata": {
        "id": "1dbd5f07-59df-4f57-a4e0-342da9da76d4"
      },
      "outputs": [],
      "source": [
        "# Step 4 - Creating the sequences and the LSTM model\n",
        "\n",
        "#Convert training data into PyTorch tensors\n",
        "# Convert training data to tensor and transfer it to the configured device (GPU or CPU)\n",
        "X_train_tensors = torch.Tensor(X_train).to(device)\n",
        "# Convert training labels to tensor, reshape to match the output format, and transfer to the device\n",
        "y_train_tensors = torch.Tensor(y_train).view(-1, 1).to(device)\n",
        "\n",
        "# Convert testing data to tensor and transfer it to the configured device\n",
        "X_test_tensors = torch.Tensor(X_test).to(device)\n",
        "# Convert testing labels to tensor, reshape to match the output format, and transfer to the device\n",
        "y_test_tensors = torch.Tensor(y_test).view(-1, 1).to(device)"
      ]
    },
    {
      "cell_type": "markdown",
      "id": "6e9774e4-a3dc-4f6b-ba4d-6c22ea466750",
      "metadata": {
        "id": "6e9774e4-a3dc-4f6b-ba4d-6c22ea466750"
      },
      "source": [
        "# Step 4 - Creating the sequences and the LSTM model\n",
        "\n",
        "# Input dimension for torchsummary\n",
        "# Call the summary function with the appropriate input size\n",
        "seq_length = 192  # length of sequence\n",
        "input_size = 10   # number of features\n",
        "model_summary(model, (seq_length, input_size))"
      ]
    },
    {
      "cell_type": "code",
      "execution_count": null,
      "id": "5ba77573-4e7b-45d1-8a98-d0c25deed352",
      "metadata": {
        "id": "5ba77573-4e7b-45d1-8a98-d0c25deed352",
        "outputId": "5aa20c5f-d7bc-4472-d80a-93f3ec09a668"
      },
      "outputs": [
        {
          "name": "stderr",
          "output_type": "stream",
          "text": [
            "/home/sarah/anaconda3/envs/BT2024PyTorch/lib/python3.10/site-packages/tqdm/auto.py:21: TqdmWarning: IProgress not found. Please update jupyter and ipywidgets. See https://ipywidgets.readthedocs.io/en/stable/user_install.html\n",
            "  from .autonotebook import tqdm as notebook_tqdm\n"
          ]
        },
        {
          "name": "stdout",
          "output_type": "stream",
          "text": [
            "Neues bestes Modell bei Epoche 1 mit Testverlust 0.002240444806375308 gespeichert.\n",
            "Epoch 1, Train Loss: 0.0035617551574962775, Test Loss: 0.002240444806375308\n",
            "Epoch 2, Train Loss: 0.0028713790915957543, Test Loss: 0.003409684640246269\n",
            "Epoch 3, Train Loss: 0.002853152419040494, Test Loss: 0.0028365009657136397\n",
            "Epoch 4, Train Loss: 0.0026575870853470054, Test Loss: 0.002615272085677134\n",
            "Epoch 5, Train Loss: 0.0024344039566272678, Test Loss: 0.002584929561635363\n",
            "Epoch 6, Train Loss: 0.0022661723844511054, Test Loss: 0.0029679268427571515\n",
            "Early Stopping nach 6 Epochen!\n"
          ]
        }
      ],
      "source": [
        "# Step 5 - Model Training\n",
        "\n",
        "# Define the number of epochs and batch size\n",
        "loss_function = nn.MSELoss() # Define the loss function to measure the model performance\n",
        "optimizer = torch.optim.Adam(model.parameters(), lr=0.001) # Define the optimizer with a learning rate of 0.001\n",
        "epochs = 70 # Total number of epochs to train the model\n",
        "batch_size = 12 # Number of samples in each batch\n",
        "\n",
        "# For storing the loss values\n",
        "train_losses = []  # List to store loss values for each epoch during training\n",
        "test_losses = []  # List to store loss values for each epoch during validation\n",
        "\n",
        "# Initialize variables for Early Stopping\n",
        "best_test_loss = float('inf') # Set the best test loss to infinity\n",
        "best_model_path = 'best_model.pth' # Path to save the best model\n",
        "early_stopping_patience = 5  # Number of epochs to wait without improvement before stopping the training\n",
        "epochs_without_improvement = 0  # Counter to track the number of epochs without improvement\n",
        "\n",
        "for epoch in range(epochs): # Loop over the number of epochs\n",
        "    model.train() # Set the model to training mode\n",
        "    train_loss = 0.0 # Initialize the train loss for the epoch\n",
        "    for i in range(0, len(X_train_tensors), batch_size): # Iterate over the training data in batches\n",
        "        X_batch = X_train_tensors[i:i + batch_size] # Get the current batch of input data\n",
        "        y_batch = y_train_tensors[i:i + batch_size] # Get the current batch of target data\n",
        "\n",
        "        # Dynamic batch size adjustment for the last batch of the epoch\n",
        "        actual_batch_size = X_batch.size(0)\n",
        "\n",
        "        # Initialize the hidden and cell states based on the actual batch size\n",
        "        hidden = (torch.zeros(1, actual_batch_size, model.hidden_layer_size).to(device),\n",
        "                  torch.zeros(1, actual_batch_size, model.hidden_layer_size).to(device))\n",
        "\n",
        "        optimizer.zero_grad()\n",
        "\n",
        "        # Perform a forward pass through the model and store the new hidden state\n",
        "        y_pred, hidden = model(X_batch, hidden)\n",
        "\n",
        "        # Detach hidden state to prevent history from being saved\n",
        "        hidden = tuple([h.detach() for h in hidden])\n",
        "\n",
        "        loss = loss_function(y_pred, y_batch) # Calculate the loss\n",
        "        loss.backward() #Perform backpropagation\n",
        "        optimizer.step() # Update the weights\n",
        "\n",
        "        train_loss += loss.item() * actual_batch_size # Accumulate the loss for the batch\n",
        "\n",
        "    # Calculate the average training loss for the epoch\n",
        "    train_loss /= len(X_train_tensors)\n",
        "    train_losses.append(train_loss)\n",
        "\n",
        "    # Validation\n",
        "    model.eval()  # Set the model to evaluation mode\n",
        "    test_loss = 0.0\n",
        "    with torch.no_grad():  # Do not calculate gradients\n",
        "        for i in range(0, len(X_test_tensors), batch_size):\n",
        "            X_batch = X_test_tensors[i:i + batch_size]\n",
        "            y_batch = y_test_tensors[i:i + batch_size]\n",
        "\n",
        "            # Repeat the dynamic batch size adjustment for validation\n",
        "            actual_batch_size = X_batch.size(0)\n",
        "            hidden = (torch.zeros(1, actual_batch_size, model.hidden_layer_size).to(device),\n",
        "                      torch.zeros(1, actual_batch_size, model.hidden_layer_size).to(device))\n",
        "\n",
        "            y_pred = model(X_batch, hidden)[0]  # Get predictions only, state is ignored\n",
        "            loss = loss_function(y_pred, y_batch)\n",
        "            test_loss += loss.item() * actual_batch_size\n",
        "\n",
        "    # Calculate the average test loss for the epoch\n",
        "    test_loss /= len(X_test_tensors)\n",
        "    test_losses.append(test_loss)\n",
        "\n",
        "    if test_loss < best_test_loss:\n",
        "        best_test_loss = test_loss\n",
        "        torch.save(model.state_dict(), best_model_path) # Save the best model\n",
        "        epochs_without_improvement = 0  # Reset since improvement was found\n",
        "        print(f'Neues bestes Modell bei Epoche {epoch+1} mit Testverlust {test_loss} gespeichert.')\n",
        "    else:\n",
        "        epochs_without_improvement += 1  # Increment since no improvement\n",
        "\n",
        "    print(f'Epoch {epoch + 1}, Train Loss: {train_loss}, Test Loss: {test_loss}')\n",
        "\n",
        "    # Check if the early stopping criterion is met\n",
        "    if epochs_without_improvement >= early_stopping_patience:\n",
        "        print(f'Early Stopping nach {epoch+1} Epochen!')\n",
        "        break  # End the loop and thus the training"
      ]
    },
    {
      "cell_type": "code",
      "execution_count": null,
      "id": "2eb9a478-fe5e-4e77-9b67-4cd32b584b00",
      "metadata": {
        "id": "2eb9a478-fe5e-4e77-9b67-4cd32b584b00",
        "outputId": "c59c44ed-d60e-4c6a-ad05-3016011a982e"
      },
      "outputs": [
        {
          "data": {
            "image/png": "[encoded data removed]",
            "text/plain": [
              "<Figure size 640x480 with 1 Axes>"
            ]
          },
          "metadata": {},
          "output_type": "display_data"
        }
      ],
      "source": [
        "# Step 5 - Model Training\n",
        "\n",
        "#Printing the learning curve\n",
        "plt.plot(train_losses, label='Train Loss')\n",
        "plt.plot(test_losses, label='Test Loss')\n",
        "plt.xlabel('Epochs')\n",
        "plt.ylabel('Loss')\n",
        "plt.title('Learning Curve')\n",
        "plt.legend()\n",
        "plt.show()"
      ]
    },
    {
      "cell_type": "code",
      "execution_count": null,
      "id": "a22fa477-6ab6-4e77-827e-8bb770345c44",
      "metadata": {
        "id": "a22fa477-6ab6-4e77-827e-8bb770345c44",
        "outputId": "6af9cc7d-137a-4f34-99ef-c165fd5ca892"
      },
      "outputs": [
        {
          "name": "stdout",
          "output_type": "stream",
          "text": [
            "Mean Squared Error (MSE): 4835.649345629893\n",
            "Mean Absolute Error (MAE): 48.19281085729443\n",
            "Root Mean Square Error (RMSE): 69.53883336402684\n",
            "Mean Absolute Percentage Error (MAPE): 5.7064004220498035%\n"
          ]
        },
        {
          "data": {
            "image/png": "[encoded data removed]",
            "text/plain": [
              "<Figure size 1200x600 with 1 Axes>"
            ]
          },
          "metadata": {},
          "output_type": "display_data"
        }
      ],
      "source": [
        "# Step 6 - Rescaling, error metrics and visualization\n",
        "\n",
        "# Load the best model weights\n",
        "best_model_path = 'best_model.pth'\n",
        "model.load_state_dict(torch.load(best_model_path, map_location=device))\n",
        "\n",
        "# Evaluate the model\n",
        "model.eval()\n",
        "test_predictions = []\n",
        "with torch.no_grad():\n",
        "    for i in range(len(X_test_tensors)):\n",
        "        # Prepare each batch from the test data\n",
        "        X_batch = X_test_tensors[i].unsqueeze(0)  # Add batch dimension\n",
        "        # Predict using the model\n",
        "        y_pred, _ = model(X_batch, (torch.zeros(1, 1, model.hidden_layer_size).to(device), torch.zeros(1, 1, model.hidden_layer_size).to(device)))\n",
        "        test_predictions.append(y_pred.squeeze().item())  # Store the predicted values\n",
        "\n",
        "# Denormalizing the predictions and actual values to their original scale\n",
        "test_predictions_denorm = lastgang_scaler.inverse_transform(np.array(test_predictions).reshape(-1, 1))\n",
        "y_test_denorm = lastgang_scaler.inverse_transform(y_test.reshape(-1, 1))\n",
        "\n",
        "# Calculate error metrics\n",
        "mse = mean_squared_error(y_test_denorm, test_predictions_denorm)  # Mean Squared Error\n",
        "mae = mean_absolute_error(y_test_denorm, test_predictions_denorm)  # Mean Absolute Error\n",
        "rmse = np.sqrt(mse)  # Root Mean Square Error\n",
        "mape = np.mean(np.abs((y_test_denorm - test_predictions_denorm) / y_test_denorm)) * 100  # Mean Absolute Percentage Error\n",
        "\n",
        "print(f\"Mean Squared Error (MSE): {mse}\")\n",
        "print(f\"Mean Absolute Error (MAE): {mae}\")\n",
        "print(f\"Root Mean Square Error (RMSE): {rmse}\")\n",
        "print(f\"Mean Absolute Percentage Error (MAPE): {mape}%\")\n",
        "\n",
        "# Visualization of actual vs predicted values\n",
        "plt.figure(figsize=(12, 6))\n",
        "test_dates = pd.date_range(start=dfEnergyAll.index[-len(X_test):][0], periods=len(y_test), freq='15T')\n",
        "plt.plot(test_dates, y_test_denorm, label='Actual Values', color='#3E7A6F')\n",
        "plt.plot(test_dates, test_predictions_denorm, label='Predicted Values', color='#7DFFE7')\n",
        "plt.legend()\n",
        "plt.title('Comparison of Actual and Predicted Values: LSTM over 48 hours')\n",
        "plt.gca().xaxis.set_major_formatter(mdates.DateFormatter('%Y-%m-%d %H:%M'))\n",
        "#plt.gca().xaxis.set_major_locator(mdates.DayLocator())\n",
        "plt.gca().xaxis.set_major_locator(mdates.HourLocator(interval=3))\n",
        "plt.gcf().autofmt_xdate()\n",
        "plt.show()"
      ]
    },
    {
      "cell_type": "code",
      "execution_count": null,
      "id": "6fcfd2c6-43f4-4a26-afa0-8f412c7306b0",
      "metadata": {
        "id": "6fcfd2c6-43f4-4a26-afa0-8f412c7306b0",
        "outputId": "a6129e38-0f5f-4283-ba62-5a7e16d3247a"
      },
      "outputs": [
        {
          "name": "stdout",
          "output_type": "stream",
          "text": [
            "GPU after model training: 2024-05-03 16:44:12\n",
            "GPU: NVIDIA A100 80GB PCIe, GPU RAM Free: 16696.0MB, Used: 64343.0MB, Utilization: 23.0%\n",
            "GPU: NVIDIA A100 80GB PCIe, GPU RAM Free: 2326.0MB, Used: 78713.0MB, Utilization: 100.0%\n",
            "CPU after model training:\n",
            "CPU Utilization: 15.0%\n",
            "RAM after model training:\n",
            "Total memory: 146.88 GB\n",
            "Available memory: 115.61 GB\n",
            "Used memory: 29.27 GB\n",
            "Memory usage: 21.3%\n"
          ]
        }
      ],
      "source": [
        "# Step 7 - Show GPU Utilization and Memory Usage after Model Training\n",
        "\n",
        "print(\"GPU after model training:\", datetime.now().strftime(\"%Y-%m-%d %H:%M:%S\")) # Print GPU utilization after model training\n",
        "print_gpu_utilization() # Call function to print GPU utilization\n",
        "\n",
        "print(\"CPU after model training:\") # Print CPU utilization after model training\n",
        "print_cpu_utilization() # Call function to print CPU utilization\n",
        "\n",
        "print(\"RAM after model training:\") # Print RAM usage after model training\n",
        "print_memory_usage() # Call function to print RAM usage"
      ]
    },
    {
      "cell_type": "markdown",
      "id": "5c06792b-b9f6-4536-abc5-d6073e5b3600",
      "metadata": {
        "id": "5c06792b-b9f6-4536-abc5-d6073e5b3600"
      },
      "source": [
        "## 2 - LSTM with Energy consumption data and 2 variables 'Lastgang_Moving_Average' and 'Lastgang_First_Difference'"
      ]
    },
    {
      "cell_type": "code",
      "execution_count": null,
      "id": "2c5a6ba2-9bea-4615-8ca2-d3a5bc354446",
      "metadata": {
        "id": "2c5a6ba2-9bea-4615-8ca2-d3a5bc354446"
      },
      "outputs": [],
      "source": [
        "# Step 3 - Data Scaling\n",
        "\n",
        "# Initialize the scalers\n",
        "lastgang_scaler = MinMaxScaler(feature_range=(0, 1))  # Scaler for the target variable\n",
        "features_scaler = MinMaxScaler(feature_range=(0, 1))  # Scaler for the feature variables\n",
        "\n",
        "# Apply the scaler to the appropriate columns\n",
        "dfEnergyAll['Lastgang'] = lastgang_scaler.fit_transform(dfEnergyAll['Lastgang'].values.reshape(-1, 1))  # Scale the main target variable\n",
        "dfEnergyAll[['Lastgang_Moving_Average', 'Lastgang_First_Difference']] = features_scaler.fit_transform(dfEnergyAll[['Lastgang_Moving_Average', 'Lastgang_First_Difference']])  # Scale selected features\n"
      ]
    },
    {
      "cell_type": "code",
      "execution_count": null,
      "id": "47151f28-f353-4732-aa33-5c74bc1519ac",
      "metadata": {
        "id": "47151f28-f353-4732-aa33-5c74bc1519ac"
      },
      "outputs": [],
      "source": [
        "# Step 4 - Creating the sequences and the LSTM model\n",
        "\n",
        "def create_sequences(data, seq_length):\n",
        "    # Initialize lists to hold the input sequences (xs) and the corresponding target values (ys)\n",
        "    xs = []\n",
        "    ys = []\n",
        "    for i in range(len(data) - seq_length):\n",
        "        # Create a sequence of length seq_length from the data starting at index i\n",
        "        x = data.iloc[i:(i + seq_length)].to_numpy()\n",
        "        # Get the target value corresponding to the end of the sequence\n",
        "        y = data.iloc[i + seq_length, 0]\n",
        "        # Append the sequence to the list of inputs\n",
        "        xs.append(x)\n",
        "        # Append the target value to the list of outputs\n",
        "        ys.append(y)\n",
        "    # Convert lists to numpy arrays for further processing in machine learning models\n",
        "    return np.array(xs), np.array(ys)\n",
        "\n",
        "# Define the length of sequences\n",
        "seq_length = 192\n",
        "# Generate sequences and corresponding target values from the dataset\n",
        "X, y = create_sequences(dfEnergyAll, seq_length)\n",
        "\n",
        "# Use the last 192 sequences for testing to maintain a comparable distribution as in the TBATS model\n",
        "X_train, X_test = X[:-192], X[-192:]  # Split the data into training and testing sets\n",
        "y_train, y_test = y[:-192], y[-192:]  # Split the target values into training and testing sets\n"
      ]
    },
    {
      "cell_type": "code",
      "execution_count": null,
      "id": "776ce941-9729-4cb7-82a0-2beb2169ec9c",
      "metadata": {
        "id": "776ce941-9729-4cb7-82a0-2beb2169ec9c"
      },
      "outputs": [],
      "source": [
        "# Step 4 - Creating the sequences and the LSTM model\n",
        "\n",
        "# Print the shapes of the training and testing datasets\n",
        "print(f\"X_train Shape: {X_train.shape}\")\n",
        "print(f\"X_test Shape: {X_test.shape}\")"
      ]
    },
    {
      "cell_type": "code",
      "execution_count": null,
      "id": "eb141e4d-c842-4f37-a69d-f7a9485dd78e",
      "metadata": {
        "id": "eb141e4d-c842-4f37-a69d-f7a9485dd78e"
      },
      "outputs": [],
      "source": [
        "# Step 4 - Creating the sequences and the LSTM model\n",
        "\n",
        "# Check Hardware Availability for the PyTorch code\n",
        "device = torch.device('cuda' if torch.cuda.is_available() else 'cpu')\n"
      ]
    },
    {
      "cell_type": "code",
      "execution_count": null,
      "id": "9f97772d-d556-4063-9cd1-45520a86ab55",
      "metadata": {
        "id": "9f97772d-d556-4063-9cd1-45520a86ab55"
      },
      "outputs": [],
      "source": [
        "# Step 4 - Creating the sequences and the LSTM model\n",
        "\n",
        "class LSTMModel(nn.Module):\n",
        "    def __init__(self, input_size, hidden_layer_size, output_size):\n",
        "        super(LSTMModel, self).__init__()\n",
        "        # Initialize the LSTM layer with specified input size and hidden layer size\n",
        "        self.hidden_layer_size = hidden_layer_size  # Store the hidden layer size\n",
        "        self.lstm = nn.LSTM(input_size, hidden_layer_size, batch_first=True)  # LSTM module\n",
        "        self.linear = nn.Linear(hidden_layer_size, output_size)  # Linear layer to map the LSTM outputs to the desired output size\n",
        "\n",
        "    def forward(self, input_seq, hidden_state):\n",
        "        # Define the forward pass of the LSTM model\n",
        "        lstm_out, hidden_state = self.lstm(input_seq, hidden_state)  # Execute the LSTM layer\n",
        "        predictions = self.linear(lstm_out[:, -1, :])  # Apply the linear layer to the last time step output of the LSTM\n",
        "        return predictions, hidden_state  # Return the final predictions and the hidden state\n",
        "\n",
        "# Initialize the LSTM model with specific dimensions\n",
        "model = LSTMModel(3, 100, 1).to(device)  # 3 features as input, 'device' specifies where to run the model (here GPU)\n"
      ]
    },
    {
      "cell_type": "code",
      "execution_count": null,
      "id": "a8ccc2c6-e58e-464a-9270-7e79f00732f2",
      "metadata": {
        "id": "a8ccc2c6-e58e-464a-9270-7e79f00732f2"
      },
      "outputs": [],
      "source": [
        "# Step 4 - Creating the sequences and the LSTM model\n",
        "\n",
        "#Convert training data into PyTorch tensors\n",
        "# Convert training data to tensor and transfer it to the configured device (GPU or CPU)\n",
        "X_train_tensors = torch.Tensor(X_train).to(device)\n",
        "# Convert training labels to tensor, reshape to match the output format, and transfer to the device\n",
        "y_train_tensors = torch.Tensor(y_train).view(-1, 1).to(device)\n",
        "\n",
        "# Convert testing data to tensor and transfer it to the configured device\n",
        "X_test_tensors = torch.Tensor(X_test).to(device)\n",
        "# Convert testing labels to tensor, reshape to match the output format, and transfer to the device\n",
        "y_test_tensors = torch.Tensor(y_test).view(-1, 1).to(device)"
      ]
    },
    {
      "cell_type": "code",
      "execution_count": null,
      "id": "5f3305bb-2ec2-419c-9685-d91e3c2c1d16",
      "metadata": {
        "id": "5f3305bb-2ec2-419c-9685-d91e3c2c1d16"
      },
      "outputs": [],
      "source": [
        "# Step 5 - Model Training\n",
        "\n",
        "# Define the number of epochs and the batch size\n",
        "loss_function = nn.MSELoss()  # Loss function to measure how well the model performs\n",
        "optimizer = torch.optim.Adam(model.parameters(), lr=0.001)  # Optimizer to update model weights\n",
        "epochs = 70  # Total number of training epochs\n",
        "batch_size = 12  # Number of samples per batch\n",
        "\n",
        "# For storing loss values\n",
        "train_losses = []  # List to store training loss per epoch\n",
        "test_losses = []  # List to store validation loss per epoch\n",
        "\n",
        "# Initialize variables for Early Stopping\n",
        "best_test_loss = float('inf')  # Best loss for the validation set seen so far\n",
        "best_model_path = 'best_model.pth'  # Path to save the best model\n",
        "early_stopping_patience = 5  # Number of epochs to continue without improvement before stopping\n",
        "epochs_without_improvement = 0  # Count of epochs since last improvement\n",
        "\n",
        "for epoch in range(epochs):  # Iterate over each epoch\n",
        "    model.train()  # Set the model to training mode\n",
        "    train_loss = 0.0  # Accumulator for the loss of the current epoch\n",
        "    for i in range(0, len(X_train_tensors), batch_size):  # Iterate over batches\n",
        "        X_batch = X_train_tensors[i:i + batch_size]  # Current batch of input data\n",
        "        y_batch = y_train_tensors[i:i + batch_size]  # Current batch of target data\n",
        "\n",
        "        # Dynamic adjustment of batch size for the last batch of the epoch\n",
        "        actual_batch_size = X_batch.size(0)\n",
        "\n",
        "        # Initialize hidden and cell states based on the actual batch size\n",
        "        hidden = (torch.zeros(1, actual_batch_size, model.hidden_layer_size).to(device),\n",
        "                  torch.zeros(1, actual_batch_size, model.hidden_layer_size).to(device))\n",
        "\n",
        "        optimizer.zero_grad()  # Reset gradients\n",
        "\n",
        "        # Store the new hidden state after forward pass\n",
        "        y_pred, hidden = model(X_batch, hidden)\n",
        "\n",
        "        # Detach hidden state to prevent saving history\n",
        "        hidden = tuple([h.detach() for h in hidden])\n",
        "\n",
        "        loss = loss_function(y_pred, y_batch)  # Compute loss\n",
        "        loss.backward()  # Backpropagation\n",
        "        optimizer.step()  # Update weights\n",
        "\n",
        "        train_loss += loss.item() * actual_batch_size  # Aggregate loss for the epoch\n",
        "\n",
        "    # Calculate average training loss for the epoch\n",
        "    train_loss /= len(X_train_tensors)\n",
        "    train_losses.append(train_loss)\n",
        "\n",
        "    # Validation\n",
        "    model.eval()  # Set the model to evaluation mode\n",
        "    test_loss = 0.0\n",
        "    with torch.no_grad():  # No gradient calculations\n",
        "        for i in range(0, len(X_test_tensors), batch_size):\n",
        "            X_batch = X_test_tensors[i:i + batch_size]\n",
        "            y_batch = y_test_tensors[i:i + batch_size]\n",
        "\n",
        "            # Repeat dynamic batch size adjustment for validation\n",
        "            actual_batch_size = X_batch.size(0)\n",
        "            hidden = (torch.zeros(1, actual_batch_size, model.hidden_layer_size).to(device),\n",
        "                      torch.zeros(1, actual_batch_size, model.hidden_layer_size).to(device))\n",
        "\n",
        "            y_pred = model(X_batch, hidden)[0]  # Only predictions needed, state ignored\n",
        "            loss = loss_function(y_pred, y_batch)\n",
        "            test_loss += loss.item() * actual_batch_size\n",
        "\n",
        "    # Calculate average test loss for the epoch\n",
        "    test_loss /= len(X_test_tensors)\n",
        "    test_losses.append(test_loss)\n",
        "\n",
        "    if test_loss < best_test_loss:\n",
        "        best_test_loss = test_loss  # Update the best test loss\n",
        "        torch.save(model.state_dict(), best_model_path)  # Save the best model\n",
        "        epochs_without_improvement = 0  # Reset since improvement was found\n",
        "        print(f'New best model saved at epoch {epoch+1} with test loss {test_loss}.')\n",
        "    else:\n",
        "        epochs_without_improvement += 1  # Increment since no improvement\n",
        "\n",
        "    print(f'Epoch {epoch + 1}, Train Loss: {train_loss}, Test Loss: {test_loss}')\n",
        "\n",
        "    # Check if early stopping criterion is met\n",
        "    if epochs_without_improvement >= early_stopping_patience:\n",
        "        print(f'Early Stopping after {epoch+1} epochs!')\n",
        "        break  # End the loop and thus the training\n"
      ]
    },
    {
      "cell_type": "code",
      "execution_count": null,
      "id": "25769da1-b581-4015-a00f-b6f21ebb58c0",
      "metadata": {
        "id": "25769da1-b581-4015-a00f-b6f21ebb58c0"
      },
      "outputs": [],
      "source": [
        "# # Step 5 - Model Training\n",
        "\n",
        "# Printint the Learning Curve\n",
        "plt.plot(train_losses, label='Train Loss')\n",
        "plt.plot(test_losses, label='Test Loss')\n",
        "plt.xlabel('Epochs')\n",
        "plt.ylabel('Loss')\n",
        "plt.title('Learning Curve')\n",
        "plt.legend()\n",
        "plt.show()"
      ]
    },
    {
      "cell_type": "code",
      "execution_count": null,
      "id": "8361e817-e439-45c6-84cc-f1c0d9c5e06c",
      "metadata": {
        "id": "8361e817-e439-45c6-84cc-f1c0d9c5e06c"
      },
      "outputs": [],
      "source": [
        "# Step 6 - Rescaling, error metrics and visualization\n",
        "\n",
        "# Load the best model weights\n",
        "best_model_path = 'best_model.pth'\n",
        "model.load_state_dict(torch.load(best_model_path, map_location=device))\n",
        "\n",
        "# Evaluate the model\n",
        "model.eval()\n",
        "test_predictions = []\n",
        "with torch.no_grad():  # Disable gradient tracking for inference, which saves memory and computations\n",
        "    for i in range(len(X_test_tensors)):\n",
        "        X_batch = X_test_tensors[i].unsqueeze(0)  # Add a batch dimension to the tensor\n",
        "        y_pred, _ = model(X_batch, (torch.zeros(1, 1, model.hidden_layer_size).to(device),\n",
        "                                    torch.zeros(1, 1, model.hidden_layer_size).to(device)))\n",
        "        test_predictions.append(y_pred.squeeze().item())  # Squeeze to remove batch dimension and convert tensor to item\n",
        "\n",
        "# Denormalization of the predictions and actual values\n",
        "test_predictions_denorm = lastgang_scaler.inverse_transform(np.array(test_predictions).reshape(-1, 1))\n",
        "y_test_denorm = lastgang_scaler.inverse_transform(y_test.reshape(-1, 1))\n",
        "\n",
        "# Calculation of error metrics\n",
        "mse = mean_squared_error(y_test_denorm, test_predictions_denorm)  # Mean Squared Error\n",
        "mae = mean_absolute_error(y_test_denorm, test_predictions_denorm)  # Mean Absolute Error\n",
        "rmse = np.sqrt(mse)  # Root Mean Square Error\n",
        "mape = np.mean(np.abs((y_test_denorm - test_predictions_denorm) / y_test_denorm)) * 100  # Mean Absolute Percentage Error\n",
        "\n",
        "print(f\"Mean Squared Error (MSE): {mse}\")\n",
        "print(f\"Mean Absolute Error (MAE): {mae}\")\n",
        "print(f\"Root Mean Square Error (RMSE): {rmse}\")\n",
        "print(f\"Mean Absolute Percentage Error (MAPE): {mape}%\")\n",
        "\n",
        "# Visualization of actual vs predicted values\n",
        "plt.figure(figsize=(12, 6))\n",
        "test_dates = pd.date_range(start=dfEnergyAll.index[-len(X_test):][0], periods=len(y_test), freq='15T')\n",
        "plt.plot(test_dates, y_test_denorm, label='Actual Values', color='blue')\n",
        "plt.plot(test_dates, test_predictions_denorm, label='Predicted Values', color='red')\n",
        "plt.legend()\n",
        "plt.title('Comparison of Actual and Predicted Values')\n",
        "plt.gca().xaxis.set_major_formatter(mdates.DateFormatter('%Y-%m-%d %H:%M'))  # Format the x-axis for dates\n",
        "#plt.gca().xaxis.set_major_locator(mdates.DayLocator())\n",
        "plt.gca().xaxis.set_major_locator(mdates.HourLocator(interval=3))  # Set major tick interval\n",
        "plt.gcf().autofmt_xdate()  # Auto format date labels\n",
        "plt.show()"
      ]
    }
  ],
  "metadata": {
    "kernelspec": {
      "display_name": "Python 3 (ipykernel)",
      "language": "python",
      "name": "python3"
    },
    "language_info": {
      "codemirror_mode": {
        "name": "ipython",
        "version": 3
      },
      "file_extension": ".py",
      "mimetype": "text/x-python",
      "name": "python",
      "nbconvert_exporter": "python",
      "pygments_lexer": "ipython3",
      "version": "3.11.8"
    },
    "colab": {
      "provenance": [],
      "include_colab_link": true
    }
  },
  "nbformat": 4,
  "nbformat_minor": 5
}